{
 "cells": [
  {
   "cell_type": "code",
   "execution_count": 27,
   "metadata": {
    "_cell_guid": "b1076dfc-b9ad-4769-8c92-a6c4dae69d19",
    "_uuid": "8f2839f25d086af736a60e9eeb907d3b93b6e0e5"
   },
   "outputs": [
    {
     "name": "stdout",
     "output_type": "stream",
     "text": [
      "/kaggle/input/imdb-dataset-of-50k-movie-reviews/IMDB Dataset.csv\n"
     ]
    }
   ],
   "source": [
    "# This Python 3 environment comes with many helpful analytics libraries installed\n",
    "# It is defined by the kaggle/python Docker image: https://github.com/kaggle/docker-python\n",
    "# For example, here's several helpful packages to load\n",
    "\n",
    "import numpy as np # linear algebra\n",
    "import pandas as pd # data processing, CSV file I/O (e.g. pd.read_csv)\n",
    "import warnings\n",
    "warnings.filterwarnings(\"ignore\")\n",
    "# Input data files are available in the read-only \"../input/\" directory\n",
    "# For example, running this (by clicking run or pressing Shift+Enter) will list all files under the input directory\n",
    "\n",
    "import os\n",
    "for dirname, _, filenames in os.walk('/kaggle/input'):\n",
    "    for filename in filenames:\n",
    "        print(os.path.join(dirname, filename))\n",
    "\n",
    "# You can write up to 20GB to the current directory (/kaggle/working/) that gets preserved as output when you create a version using \"Save & Run All\" \n",
    "# You can also write temporary files to /kaggle/temp/, but they won't be saved outside of the current session"
   ]
  },
  {
   "cell_type": "code",
   "execution_count": 28,
   "metadata": {},
   "outputs": [],
   "source": [
    "import torch\n",
    "import torch.nn as nn\n",
    "import re\n",
    "from nltk.corpus import stopwords \n",
    "from collections import Counter\n",
    "from sklearn.model_selection import train_test_split\n",
    "import matplotlib.pyplot as plt"
   ]
  },
  {
   "cell_type": "code",
   "execution_count": 29,
   "metadata": {},
   "outputs": [
    {
     "data": {
      "text/html": [
       "<div>\n",
       "<style scoped>\n",
       "    .dataframe tbody tr th:only-of-type {\n",
       "        vertical-align: middle;\n",
       "    }\n",
       "\n",
       "    .dataframe tbody tr th {\n",
       "        vertical-align: top;\n",
       "    }\n",
       "\n",
       "    .dataframe thead th {\n",
       "        text-align: right;\n",
       "    }\n",
       "</style>\n",
       "<table border=\"1\" class=\"dataframe\">\n",
       "  <thead>\n",
       "    <tr style=\"text-align: right;\">\n",
       "      <th></th>\n",
       "      <th>review</th>\n",
       "      <th>sentiment</th>\n",
       "    </tr>\n",
       "  </thead>\n",
       "  <tbody>\n",
       "    <tr>\n",
       "      <th>0</th>\n",
       "      <td>One of the other reviewers has mentioned that ...</td>\n",
       "      <td>positive</td>\n",
       "    </tr>\n",
       "    <tr>\n",
       "      <th>1</th>\n",
       "      <td>A wonderful little production. &lt;br /&gt;&lt;br /&gt;The...</td>\n",
       "      <td>positive</td>\n",
       "    </tr>\n",
       "    <tr>\n",
       "      <th>2</th>\n",
       "      <td>I thought this was a wonderful way to spend ti...</td>\n",
       "      <td>positive</td>\n",
       "    </tr>\n",
       "    <tr>\n",
       "      <th>3</th>\n",
       "      <td>Basically there's a family where a little boy ...</td>\n",
       "      <td>negative</td>\n",
       "    </tr>\n",
       "    <tr>\n",
       "      <th>4</th>\n",
       "      <td>Petter Mattei's \"Love in the Time of Money\" is...</td>\n",
       "      <td>positive</td>\n",
       "    </tr>\n",
       "  </tbody>\n",
       "</table>\n",
       "</div>"
      ],
      "text/plain": [
       "                                              review sentiment\n",
       "0  One of the other reviewers has mentioned that ...  positive\n",
       "1  A wonderful little production. <br /><br />The...  positive\n",
       "2  I thought this was a wonderful way to spend ti...  positive\n",
       "3  Basically there's a family where a little boy ...  negative\n",
       "4  Petter Mattei's \"Love in the Time of Money\" is...  positive"
      ]
     },
     "execution_count": 29,
     "metadata": {},
     "output_type": "execute_result"
    }
   ],
   "source": [
    "data_csv = '/kaggle/input/imdb-dataset-of-50k-movie-reviews/IMDB Dataset.csv'\n",
    "df = pd.read_csv(data_csv)\n",
    "df.head()"
   ]
  },
  {
   "cell_type": "code",
   "execution_count": 30,
   "metadata": {},
   "outputs": [
    {
     "name": "stdout",
     "output_type": "stream",
     "text": [
      "number of training examples =  37500\n",
      "test data size =  12500\n"
     ]
    }
   ],
   "source": [
    "x = df['review'].values\n",
    "y = df['sentiment'].values\n",
    "x_train,x_test,y_train,y_test = train_test_split(x,y)\n",
    "print(\"number of training examples = \",x_train.size)\n",
    "print(\"test data size = \",x_test.size)"
   ]
  },
  {
   "cell_type": "code",
   "execution_count": 31,
   "metadata": {},
   "outputs": [],
   "source": [
    "def preprocessing(tempStr):\n",
    "    tempStr = re.sub(\"[^ 0-9A-Za-z]\",\"\",tempStr)\n",
    "    tempStr = re.sub(r\"\\s+\", '', tempStr) #removing all whitespaces\n",
    "    tempStr = re.sub(r\"[^\\w\\s]\", '', tempStr) #removing all the information which is not a word or number e.g. punctuation marks.\n",
    "    tempStr = re.sub(r\"\\d\", '', tempStr) #removing all the digits also\n",
    "    return tempStr"
   ]
  },
  {
   "cell_type": "code",
   "execution_count": 32,
   "metadata": {},
   "outputs": [],
   "source": [
    "\n",
    "def getNonStopWordList():\n",
    "\ttobe = [] #list to contain all the words which has less weights e.g. - to,for,the etc.\n",
    "\tStopWords = set(stopwords.words('english'))\n",
    "\tfor review in x_train:\n",
    "\t\tfor word in review.lower().split():\n",
    "\t\t\tword = preprocessing(word)\n",
    "\t\t\tif word != '' and word not in StopWords:\n",
    "\t\t\t\ttobe.append(word)\n",
    "\treturn tobe"
   ]
  },
  {
   "cell_type": "code",
   "execution_count": 33,
   "metadata": {},
   "outputs": [],
   "source": [
    "def create_tokens():\n",
    "    nonStopWordList = getNonStopWordList()\n",
    "    frequency = Counter(nonStopWordList)\n",
    "    sortedDescByFreq = sorted(frequency,key=frequency.get,reverse=True)[:1000] #sorting by freq in descending order\n",
    "    vocabulary = {word:_+1 for _,word in enumerate(sortedDescByFreq)} #used for vocabulary\n",
    "    \n",
    "    trainArr,testArr = [],[]\n",
    "    for review in x_train:\n",
    "        templist = []\n",
    "        for word in review.lower().split():\n",
    "            if preprocessing(word) in vocabulary.keys():\n",
    "                templist.append(vocabulary[preprocessing(word)])\n",
    "        trainArr.append(templist)\n",
    "                                     \n",
    "    for review in x_test:\n",
    "        templist = []\n",
    "        for word in review.lower().split():\n",
    "            if preprocessing(word) in vocabulary.keys():\n",
    "                templist.append(vocabulary[preprocessing(word)])\n",
    "        testArr.append(templist)\n",
    "                                    \n",
    "    trEnc,teEnc = [],[] #contains the encoded values.\n",
    "    for sentiments in y_train:\n",
    "        trEnc.append(int(sentiments==\"positive\"))\n",
    "\n",
    "    for sentiments in y_test:\n",
    "        teEnc.append(int(sentiments==\"positive\"))\n",
    "\n",
    "    return np.array(trainArr), np.array(trEnc),np.array(testArr), np.array(teEnc),vocabulary"
   ]
  },
  {
   "cell_type": "code",
   "execution_count": 34,
   "metadata": {},
   "outputs": [
    {
     "name": "stdout",
     "output_type": "stream",
     "text": [
      "(37500,) (37500,) (12500,) (12500,)\n"
     ]
    }
   ],
   "source": [
    "print(x_train.shape,y_train.shape,x_test.shape,y_test.shape)"
   ]
  },
  {
   "cell_type": "code",
   "execution_count": 35,
   "metadata": {},
   "outputs": [],
   "source": [
    "# x_train"
   ]
  },
  {
   "cell_type": "code",
   "execution_count": 36,
   "metadata": {},
   "outputs": [],
   "source": [
    "x_train,y_train,x_test,y_test,vocab = create_tokens()"
   ]
  },
  {
   "cell_type": "code",
   "execution_count": 37,
   "metadata": {},
   "outputs": [
    {
     "name": "stdout",
     "output_type": "stream",
     "text": [
      "(37500,) (37500,) (12500,) (12500,)\n"
     ]
    }
   ],
   "source": [
    "print(x_train.shape,y_train.shape,x_test.shape,y_test.shape)"
   ]
  },
  {
   "cell_type": "code",
   "execution_count": 38,
   "metadata": {},
   "outputs": [
    {
     "name": "stdout",
     "output_type": "stream",
     "text": [
      "{'br': 1, 'movie': 2, 'film': 3, 'one': 4, 'like': 5, 'good': 6, 'even': 7, 'would': 8, 'time': 9, 'really': 10, 'see': 11, 'story': 12, 'well': 13, 'much': 14, 'get': 15, 'also': 16, 'great': 17, 'bad': 18, 'people': 19, 'first': 20, 'dont': 21, 'make': 22, 'movies': 23, 'made': 24, 'films': 25, 'could': 26, 'way': 27, 'characters': 28, 'think': 29, 'watch': 30, 'many': 31, 'seen': 32, 'character': 33, 'two': 34, 'never': 35, 'love': 36, 'acting': 37, 'plot': 38, 'best': 39, 'little': 40, 'know': 41, 'show': 42, 'life': 43, 'ever': 44, 'better': 45, 'still': 46, 'scene': 47, 'say': 48, 'end': 49, 'man': 50, 'scenes': 51, 'something': 52, 'go': 53, 'im': 54, 'back': 55, 'real': 56, 'thing': 57, 'watching': 58, 'doesnt': 59, 'actors': 60, 'didnt': 61, 'years': 62, 'another': 63, 'actually': 64, 'though': 65, 'funny': 66, 'makes': 67, 'find': 68, 'nothing': 69, 'look': 70, 'going': 71, 'work': 72, 'new': 73, 'lot': 74, 'every': 75, 'old': 76, 'part': 77, 'us': 78, 'director': 79, 'cant': 80, 'thats': 81, 'things': 82, 'quite': 83, 'want': 84, 'pretty': 85, 'cast': 86, 'seems': 87, 'around': 88, 'take': 89, 'young': 90, 'got': 91, 'fact': 92, 'world': 93, 'enough': 94, 'thought': 95, 'however': 96, 'give': 97, 'big': 98, 'may': 99, 'ive': 100, 'horror': 101, 'without': 102, 'long': 103, 'saw': 104, 'gets': 105, 'isnt': 106, 'right': 107, 'always': 108, 'almost': 109, 'must': 110, 'come': 111, 'original': 112, 'comedy': 113, 'theres': 114, 'times': 115, 'music': 116, 'role': 117, 'series': 118, 'whole': 119, 'interesting': 120, 'least': 121, 'point': 122, 'guy': 123, 'action': 124, 'done': 125, 'bit': 126, 'minutes': 127, 'far': 128, 'might': 129, 'anything': 130, 'since': 131, 'feel': 132, 'hes': 133, 'script': 134, 'last': 135, 'probably': 136, 'family': 137, 'kind': 138, 'performance': 139, 'yet': 140, 'worst': 141, 'tv': 142, 'sure': 143, 'rather': 144, 'away': 145, 'anyone': 146, 'fun': 147, 'found': 148, 'played': 149, 'woman': 150, 'believe': 151, 'girl': 152, 'trying': 153, 'making': 154, 'although': 155, 'hard': 156, 'shows': 157, 'especially': 158, 'course': 159, 'comes': 160, 'day': 161, 'goes': 162, 'looking': 163, 'worth': 164, 'everything': 165, 'put': 166, 'ending': 167, 'maybe': 168, 'different': 169, 'place': 170, 'main': 171, 'looks': 172, 'wasnt': 173, 'watched': 174, 'dvd': 175, 'reason': 176, 'three': 177, 'someone': 178, 'set': 179, 'book': 180, 'sense': 181, 'money': 182, 'plays': 183, 'job': 184, 'effects': 185, 'screen': 186, 'true': 187, 'play': 188, 'american': 189, 'together': 190, 'takes': 191, 'actor': 192, 'said': 193, 'instead': 194, 'everyone': 195, 'seem': 196, 'special': 197, 'beautiful': 198, 'later': 199, 'seeing': 200, 'war': 201, 'left': 202, 'john': 203, 'audience': 204, 'version': 205, 'black': 206, 'night': 207, 'excellent': 208, 'shot': 209, 'youre': 210, 'idea': 211, 'completely': 212, 'simply': 213, 'nice': 214, 'fan': 215, 'death': 216, 'house': 217, 'used': 218, 'high': 219, 'along': 220, 'poor': 221, 'else': 222, 'wife': 223, 'read': 224, 'kids': 225, 'year': 226, 'second': 227, 'star': 228, 'short': 229, 'friends': 230, 'given': 231, 'help': 232, 'use': 233, 'men': 234, 'mind': 235, 'boring': 236, 'need': 237, 'truly': 238, 'less': 239, 'half': 240, 'next': 241, 'home': 242, 'classic': 243, 'try': 244, 'either': 245, 'rest': 246, 'enjoy': 247, 'hollywood': 248, 'couple': 249, 'production': 250, 'stupid': 251, 'dead': 252, 'line': 253, 'tell': 254, 'start': 255, 'wrong': 256, 'recommend': 257, 'came': 258, 'performances': 259, 'father': 260, 'remember': 261, 'let': 262, 'sex': 263, 'women': 264, 'understand': 265, 'full': 266, 'mean': 267, 'perhaps': 268, 'terrible': 269, 'getting': 270, 'awful': 271, 'keep': 272, 'school': 273, 'camera': 274, 'wonderful': 275, 'moments': 276, 'others': 277, 'often': 278, 'playing': 279, 'name': 280, 'video': 281, 'small': 282, 'gives': 283, 'definitely': 284, 'couldnt': 285, 'episode': 286, 'human': 287, 'top': 288, 'went': 289, 'budget': 290, 'perfect': 291, 'absolutely': 292, 'certainly': 293, 'lines': 294, 'dialogue': 295, 'piece': 296, 'finally': 297, 'early': 298, 'person': 299, 'stars': 300, 'face': 301, 'become': 302, 'title': 303, 'yes': 304, 'guys': 305, 'case': 306, 'head': 307, 'hope': 308, 'lost': 309, 'supposed': 310, 'entire': 311, 'sort': 312, 'worse': 313, 'loved': 314, 'mother': 315, 'written': 316, 'felt': 317, 'laugh': 318, 'style': 319, 'liked': 320, 'entertaining': 321, 'several': 322, 'overall': 323, 'live': 324, 'sound': 325, 'mr': 326, 'picture': 327, 'oh': 328, 'waste': 329, 'shes': 330, 'based': 331, 'friend': 332, 'problem': 333, 'boy': 334, 'beginning': 335, 'id': 336, 'dark': 337, 'totally': 338, 'seemed': 339, 'cinema': 340, 'final': 341, 'care': 342, 'evil': 343, 'becomes': 344, 'wanted': 345, 'youll': 346, 'humor': 347, 'lead': 348, 'children': 349, 'wont': 350, 'despite': 351, 'fans': 352, 'already': 353, 'guess': 354, 'called': 355, 'white': 356, 'unfortunately': 357, 'turn': 358, 'throughout': 359, 'able': 360, 'example': 361, 'low': 362, 'direction': 363, 'drama': 364, 'wants': 365, 'fine': 366, 'lives': 367, 'days': 368, 'game': 369, 'quality': 370, 'theyre': 371, 'girls': 372, 'history': 373, 'horrible': 374, 'act': 375, 'turns': 376, 'writing': 377, 'gave': 378, 'amazing': 379, 'works': 380, 'kill': 381, 'enjoyed': 382, 'past': 383, 'tries': 384, 'son': 385, 'michael': 386, 'town': 387, 'killer': 388, 'behind': 389, 'side': 390, 'favorite': 391, 'parts': 392, 'matter': 393, 'car': 394, 'flick': 395, 'thinking': 396, 'expect': 397, 'brilliant': 398, 'starts': 399, 'eyes': 400, 'obviously': 401, 'soon': 402, 'directed': 403, 'ones': 404, 'viewer': 405, 'stuff': 406, 'run': 407, 'actress': 408, 'highly': 409, 'killed': 410, 'sometimes': 411, 'took': 412, 'says': 413, 'late': 414, 'group': 415, 'happens': 416, 'decent': 417, 'heart': 418, 'ill': 419, 'genre': 420, 'hell': 421, 'except': 422, 'art': 423, 'city': 424, 'feeling': 425, 'fight': 426, 'hour': 427, 'extremely': 428, 'coming': 429, 'blood': 430, 'heard': 431, 'kid': 432, 'child': 433, 'experience': 434, 'leave': 435, 'close': 436, 'attempt': 437, 'moment': 438, 'police': 439, 'wouldnt': 440, 'told': 441, 'score': 442, 'etc': 443, 'daughter': 444, 'cannot': 445, 'type': 446, 'shown': 447, 'save': 448, 'ok': 449, 'lack': 450, 'strong': 451, 'taken': 452, 'including': 453, 'wonder': 454, 'involved': 455, 'itbr': 456, 'looked': 457, 'living': 458, 'stories': 459, 'particularly': 460, 'god': 461, 'chance': 462, 'opening': 463, 'hand': 464, 'hilarious': 465, 'song': 466, 'complete': 467, 'james': 468, 'violence': 469, 'obvious': 470, 'anyway': 471, 'simple': 472, 'happened': 473, 'roles': 474, 'happen': 475, 'exactly': 476, 'serious': 477, 'david': 478, 'usually': 479, 'lets': 480, 'known': 481, 'stop': 482, 'saying': 483, 'robert': 484, 'murder': 485, 'number': 486, 'across': 487, 'cool': 488, 'please': 489, 'ago': 490, 'reality': 491, 'voice': 492, 'wish': 493, 'interest': 494, 'english': 495, 'hours': 496, 'jokes': 497, 'order': 498, 'cinematography': 499, 'cut': 500, 'running': 501, 'huge': 502, 'slow': 503, 'released': 504, 'hit': 505, 'whose': 506, 'possible': 507, 'none': 508, 'sad': 509, 'seriously': 510, 'relationship': 511, 'alone': 512, 'shots': 513, 'age': 514, 'crap': 515, 'call': 516, 'female': 517, 'turned': 518, 'gore': 519, 'hero': 520, 'annoying': 521, 'mostly': 522, 'major': 523, 'usual': 524, 'brother': 525, 'career': 526, 'talent': 527, 'ends': 528, 'ridiculous': 529, 'taking': 530, 'important': 531, 'beyond': 532, 'change': 533, 'somewhat': 534, 'country': 535, 'body': 536, 'today': 537, 'knew': 538, 'finds': 539, 'documentary': 540, 'husband': 541, 'started': 542, 'word': 543, 'apparently': 544, 'strange': 545, 'knows': 546, 'upon': 547, 'talking': 548, 'basically': 549, 'power': 550, 'silly': 551, 'level': 552, 'view': 553, 'words': 554, 'directors': 555, 'due': 556, 'local': 557, 'rating': 558, 'arent': 559, 'scary': 560, 'clearly': 561, 'attention': 562, 'jack': 563, 'happy': 564, 'television': 565, 'room': 566, 'opinion': 567, 'four': 568, 'miss': 569, 'whats': 570, 'episodes': 571, 'moviebr': 572, 'lots': 573, 'disappointed': 574, 'single': 575, 'novel': 576, 'tells': 577, 'cheap': 578, 'musical': 579, 'problems': 580, 'bring': 581, 'havent': 582, 'light': 583, 'british': 584, 'sequence': 585, 'modern': 586, 'events': 587, 'add': 588, 'appears': 589, 'french': 590, 'talk': 591, 'falls': 592, 'sets': 593, 'predictable': 594, 'whether': 595, 'enjoyable': 596, 'dialog': 597, 'space': 598, 'filmbr': 599, 'ten': 600, 'songs': 601, 'soundtrack': 602, 'among': 603, 'giving': 604, 'viewers': 605, 'showing': 606, 'romantic': 607, 'middle': 608, 'needs': 609, 'review': 610, 'easily': 611, 'supporting': 612, 'certain': 613, 'future': 614, 'mention': 615, 'similar': 616, 'team': 617, 'earth': 618, 'filmed': 619, 'entertainment': 620, 'tried': 621, 'named': 622, 'within': 623, 'stay': 624, 'using': 625, 'clear': 626, 'moving': 627, 'five': 628, 'comic': 629, 'fall': 630, 'surprised': 631, 'easy': 632, 'king': 633, 'message': 634, 'feels': 635, 'comments': 636, 'george': 637, 'sorry': 638, 'parents': 639, 'monster': 640, 'theme': 641, 'typical': 642, 'nearly': 643, 'hate': 644, 'youve': 645, 'storyline': 646, 'release': 647, 'effort': 648, 'bunch': 649, 'kept': 650, 'greatest': 651, 'working': 652, 'thriller': 653, 'avoid': 654, 'doubt': 655, 'ways': 656, 'theater': 657, 'writer': 658, 'near': 659, 'brought': 660, 'sequel': 661, 'dull': 662, 'actual': 663, 'lady': 664, 'buy': 665, 'form': 666, 'rock': 667, 'dr': 668, 'sister': 669, 'richard': 670, 'elements': 671, 'suspense': 672, 'means': 673, 'peter': 674, 'deal': 675, 'subject': 676, 'famous': 677, 'okay': 678, 'th': 679, 'imagine': 680, 'gone': 681, 'realistic': 682, 'boys': 683, 'eventually': 684, 'editing': 685, 'viewing': 686, 'fantastic': 687, 'forget': 688, 'somehow': 689, 'leads': 690, 'tale': 691, 'die': 692, 'reviews': 693, 'move': 694, 'rent': 695, 'begins': 696, 'straight': 697, 'feature': 698, 'class': 699, 'minute': 700, 'points': 701, 'check': 702, 'general': 703, 'learn': 704, 'material': 705, 'sit': 706, 'mystery': 707, 'particular': 708, 'fast': 709, 'figure': 710, 'surprise': 711, 'hear': 712, 'paul': 713, 'decided': 714, 'tom': 715, 'whos': 716, 'wait': 717, 'indeed': 718, 'sequences': 719, 'crime': 720, 'expected': 721, 'truth': 722, 'weak': 723, 'killing': 724, 'note': 725, 'leaves': 726, 'premise': 727, 'lame': 728, 'difficult': 729, 'atmosphere': 730, 'deep': 731, 'possibly': 732, 'shame': 733, 'whatever': 734, 'sexual': 735, 'eye': 736, 'red': 737, 'third': 738, 'situation': 739, 'meet': 740, 'reading': 741, 'became': 742, 'period': 743, 'dog': 744, 'average': 745, 'footage': 746, 'follow': 747, 'memorable': 748, 'open': 749, 'york': 750, 'emotional': 751, 'needed': 752, 'meets': 753, 'poorly': 754, 'crew': 755, 'forced': 756, 'scifi': 757, 'stand': 758, 'question': 759, 'dance': 760, 'believable': 761, 'season': 762, 'animation': 763, 'otherwise': 764, 'cheesy': 765, 'oscar': 766, 'filmmakers': 767, 'western': 768, 'unless': 769, 'romance': 770, 'credits': 771, 'write': 772, 'japanese': 773, 'interested': 774, 'hot': 775, 'writers': 776, 'personal': 777, 'features': 778, 'hands': 779, 'inside': 780, 'plus': 781, 'begin': 782, 'previous': 783, 'superb': 784, 'doctor': 785, 'male': 786, 'box': 787, 'street': 788, 'total': 789, 'imdb': 790, 'towards': 791, 'laughs': 792, 'various': 793, 'comment': 794, 'beauty': 795, 'battle': 796, 'keeps': 797, 'nature': 798, 'screenplay': 799, 'incredibly': 800, 'weird': 801, 'de': 802, 'unique': 803, 'realize': 804, 'free': 805, 'america': 806, 'brings': 807, 'plenty': 808, 'result': 809, 'effect': 810, 'background': 811, 'society': 812, 'perfectly': 813, 'copy': 814, 'b': 815, 'masterpiece': 816, 'sounds': 817, 'earlier': 818, 'quickly': 819, 'island': 820, 'forward': 821, 'crazy': 822, 'badly': 823, 'older': 824, 'outside': 825, 'worked': 826, 'portrayed': 827, 'stage': 828, 'air': 829, 'admit': 830, 'directing': 831, 'setting': 832, 'appear': 833, 'gay': 834, 'ask': 835, 'development': 836, 'acted': 837, 'fairly': 838, 'business': 839, 'rich': 840, 'mark': 841, 'fire': 842, 'leading': 843, 'spent': 844, 'front': 845, 'following': 846, 'remake': 847, 'lee': 848, 'deserves': 849, 'bill': 850, 'manages': 851, 'attempts': 852, 'dumb': 853, 'powerful': 854, 'pay': 855, 'success': 856, 'unlike': 857, 'joe': 858, 'apart': 859, 'create': 860, 'dramatic': 861, 'meant': 862, 'fails': 863, 'mess': 864, 'members': 865, 'dream': 866, 'la': 867, 'expecting': 868, 'water': 869, 'political': 870, 'odd': 871, 'caught': 872, 'agree': 873, 'creepy': 874, 'hardly': 875, 'joke': 876, 'present': 877, 'pure': 878, 'brothers': 879, 'ideas': 880, 'zombie': 881, 'fighting': 882, 'recently': 883, 'waiting': 884, 'missing': 885, 'return': 886, 'reasons': 887, 'laughing': 888, 'german': 889, 'cover': 890, 'casting': 891, 'secret': 892, 'telling': 893, 'cause': 894, 'talented': 895, 'party': 896, 'wasted': 897, 'twist': 898, 'ended': 899, 'william': 900, 'cute': 901, 'large': 902, 'baby': 903, 'plain': 904, 'married': 905, 'familiar': 906, 'cop': 907, 'gun': 908, 'visual': 909, 'match': 910, 'girlfriend': 911, 'created': 912, 'cartoon': 913, 'considering': 914, 'clever': 915, 'villain': 916, 'missed': 917, 'incredible': 918, 'break': 919, 'pace': 920, 'sadly': 921, 'state': 922, 'escape': 923, 'wrote': 924, 'appreciate': 925, 'speak': 926, 'nudity': 927, 'disney': 928, 'hold': 929, 'sees': 930, 'uses': 931, 'italian': 932, 'died': 933, 'potential': 934, 'produced': 935, 'popular': 936, 'era': 937, 'common': 938, 'decides': 939, 'convincing': 940, 'younger': 941, 'trouble': 942, 'list': 943, 'credit': 944, 'slightly': 945, 'mentioned': 946, 'fantasy': 947, 'suddenly': 948, 'moves': 949, 'public': 950, 'portrayal': 951, 'office': 952, 'follows': 953, 'producers': 954, 'christmas': 955, 'former': 956, 'intelligent': 957, 'successful': 958, 'amount': 959, 'recent': 960, 'biggest': 961, 'bored': 962, 'neither': 963, 'train': 964, 'entirely': 965, 'language': 966, 'focus': 967, 'cold': 968, 'rate': 969, 'audiences': 970, 'images': 971, 'choice': 972, 'compared': 973, 'van': 974, 'fit': 975, 'violent': 976, 'company': 977, 'sweet': 978, 'band': 979, 'flat': 980, 'science': 981, 'filled': 982, 'value': 983, 'bizarre': 984, 'fear': 985, 'store': 986, 'concept': 987, 'ultimately': 988, 'positive': 989, 'tension': 990, 'hair': 991, 'social': 992, 'college': 993, 'fake': 994, 'force': 995, 'alien': 996, 'kills': 997, 'spend': 998, 'longer': 999, 'dancing': 1000}\n"
     ]
    }
   ],
   "source": [
    "print(vocab)"
   ]
  },
  {
   "cell_type": "code",
   "execution_count": 39,
   "metadata": {},
   "outputs": [
    {
     "name": "stdout",
     "output_type": "stream",
     "text": [
      "mean review length =  69.35090666666666\n",
      "minimum review length =  654\n"
     ]
    },
    {
     "data": {
      "image/png": "[encoded data removed]",
      "text/plain": [
       "<Figure size 432x288 with 1 Axes>"
      ]
     },
     "metadata": {
      "needs_background": "light"
     },
     "output_type": "display_data"
    }
   ],
   "source": [
    "#we will try to analyze our data and if possible try to manually remove some unnecessary informations\n",
    "reviewSize = []\n",
    "for review in x_train:\n",
    "    reviewSize.append(len(review))\n",
    "\n",
    "reviewSize = np.array(reviewSize)\n",
    "plt.hist(reviewSize)\n",
    "print(\"mean review length = \",np.mean(reviewSize))\n",
    "print(\"minimum review length = \",np.amax(reviewSize))"
   ]
  },
  {
   "cell_type": "code",
   "execution_count": 40,
   "metadata": {},
   "outputs": [],
   "source": [
    "def create2D(sentences, seq_len):\n",
    "    features = np.zeros((len(sentences), seq_len),dtype=int)\n",
    "    for _, review in enumerate(sentences):\n",
    "        if len(review) != 0:\n",
    "            features[_, -len(review):] = np.array(review)[:seq_len]\n",
    "    return features"
   ]
  },
  {
   "cell_type": "code",
   "execution_count": 41,
   "metadata": {},
   "outputs": [],
   "source": [
    "x_train_padded = create2D(x_train,350)\n",
    "x_test_padded = create2D(x_test,350)"
   ]
  },
  {
   "cell_type": "code",
   "execution_count": 42,
   "metadata": {},
   "outputs": [],
   "source": [
    "# create Tensor datasets\n",
    "train_data = torch.utils.data.TensorDataset(torch.from_numpy(x_train_padded), torch.from_numpy(y_train))\n",
    "valid_data = torch.utils.data.TensorDataset(torch.from_numpy(x_test_padded), torch.from_numpy(y_test))\n",
    "\n",
    "# dataloaders\n",
    "train_loader = torch.utils.data.DataLoader(train_data, shuffle=True, batch_size=50)\n",
    "valid_loader = torch.utils.data.DataLoader(valid_data, shuffle=True, batch_size=50)"
   ]
  },
  {
   "cell_type": "code",
   "execution_count": 43,
   "metadata": {},
   "outputs": [],
   "source": [
    "# obtain one batch of training data\n",
    "iterator = iter(train_loader)\n",
    "batch1_x, batch1_y = iterator.next()"
   ]
  },
  {
   "cell_type": "code",
   "execution_count": 44,
   "metadata": {},
   "outputs": [],
   "source": [
    "class LSTM(nn.Module):\n",
    "    def __init__(self,layersCount,vocabLen,hiddenDim,embeddingDim,dropoutProb=0.5):\n",
    "        super(LSTM,self).__init__()\n",
    "        self.no_layers = layersCount\n",
    "        self.hidden_dim = hiddenDim \n",
    "        self.output_dim = 1\n",
    "        self.vocab_size = vocabLen\n",
    "    \n",
    "        # embedding\n",
    "        self.embedding = nn.Embedding(vocabLen, embeddingDim)\n",
    "        \n",
    "        #lstm\n",
    "        self.lstm = nn.LSTM(input_size=embeddingDim,hidden_size=self.hidden_dim,num_layers=layersCount, batch_first=True)\n",
    "        \n",
    "        # dropout layer\n",
    "        self.dropout = nn.Dropout(0.5)\n",
    "    \n",
    "        # linear layer\n",
    "        self.fc = nn.Linear(self.hidden_dim, self.output_dim)\n",
    "        \n",
    "        #sigmoid layer\n",
    "        self.sig = nn.Sigmoid()\n",
    "        \n",
    "    def forward(self,x,hidden):\n",
    "        batch_size = x.size(0)\n",
    "        lstm_output, hidden = self.lstm(self.embedding(x), hidden)    \n",
    "        lstm_out = lstm_output.contiguous().view(-1, self.hidden_dim) \n",
    "        \n",
    "        # calculating and sigmoid function and reshaping\n",
    "        sig_output = self.sig(self.fc(self.dropout(lstm_out))).view(batch_size, -1)\n",
    "        sig_output = sig_output[:, -1] # getting the last batch\n",
    "        \n",
    "        # return last sigmoid output and hidden state\n",
    "        return sig_output, hidden\n",
    "        \n",
    "        \n",
    "        \n",
    "    def get_hidden(self, batch_size):\n",
    "        h0 = torch.zeros((self.no_layers,batch_size,self.hidden_dim)).to(device)\n",
    "        c0 = torch.zeros((self.no_layers,batch_size,self.hidden_dim)).to(device)\n",
    "        hidden = (h0,c0)\n",
    "        return hidden\n"
   ]
  },
  {
   "cell_type": "code",
   "execution_count": 45,
   "metadata": {},
   "outputs": [],
   "source": [
    "batch_size,layersCount,vocabLen,embeddingDim,hiddenDim = 50,2,len(vocab)+1,64,250\n",
    "model = LSTM(layersCount,vocabLen,embeddingDim,hiddenDim)"
   ]
  },
  {
   "cell_type": "code",
   "execution_count": 46,
   "metadata": {},
   "outputs": [],
   "source": [
    "device = torch.device(\"cuda:0\" if torch.cuda.is_available() else \"cpu\")"
   ]
  },
  {
   "cell_type": "code",
   "execution_count": 47,
   "metadata": {},
   "outputs": [],
   "source": [
    "# loss and optimization functions\n",
    "criterion = nn.BCELoss()\n",
    "optimizer = torch.optim.Adam(model.parameters(), lr=0.001,weight_decay = 1e-4)\n",
    "\n",
    "# function to predict accuracy\n",
    "def acc(pred,act):\n",
    "    pred = torch.round(pred.squeeze())\n",
    "    return torch.sum(pred == act.squeeze()).item()"
   ]
  },
  {
   "cell_type": "code",
   "execution_count": 48,
   "metadata": {},
   "outputs": [],
   "source": [
    " torch.cuda.empty_cache()"
   ]
  },
  {
   "cell_type": "code",
   "execution_count": 49,
   "metadata": {},
   "outputs": [
    {
     "name": "stdout",
     "output_type": "stream",
     "text": [
      "Epoch 1\n",
      "train_loss : 0.4474129702647527 val_loss : 0.36699270391464234\n",
      "train_accuracy : 79.16266666666667 val_accuracy : 84.296\n",
      "Validation loss decreased (inf --> 0.366993).  Saving model ...\n",
      "==================================================\n",
      "Epoch 2\n",
      "train_loss : 0.3458166791995366 val_loss : 0.4388983317017555\n",
      "train_accuracy : 85.46133333333333 val_accuracy : 81.64\n",
      "==================================================\n",
      "Epoch 3\n",
      "train_loss : 0.29270732633272806 val_loss : 0.33358080172538757\n",
      "train_accuracy : 87.95733333333334 val_accuracy : 85.576\n",
      "Validation loss decreased (0.366993 --> 0.333581).  Saving model ...\n",
      "==================================================\n",
      "Epoch 4\n",
      "train_loss : 0.2802079609334469 val_loss : 0.3311051280498505\n",
      "train_accuracy : 88.56533333333333 val_accuracy : 85.816\n",
      "Validation loss decreased (0.333581 --> 0.331105).  Saving model ...\n",
      "==================================================\n",
      "Epoch 5\n",
      "train_loss : 0.2702257093886534 val_loss : 0.3311244160532951\n",
      "train_accuracy : 88.97066666666666 val_accuracy : 85.848\n",
      "==================================================\n",
      "Epoch 6\n",
      "train_loss : 0.26999389845132826 val_loss : 0.3305479584634304\n",
      "train_accuracy : 89.00266666666667 val_accuracy : 85.84\n",
      "Validation loss decreased (0.331105 --> 0.330548).  Saving model ...\n",
      "==================================================\n",
      "Epoch 7\n",
      "train_loss : 0.2686429726382097 val_loss : 0.3306857332885265\n",
      "train_accuracy : 89.09066666666666 val_accuracy : 85.88799999999999\n",
      "==================================================\n",
      "Epoch 8\n",
      "train_loss : 0.26867009432117145 val_loss : 0.33071244513988496\n",
      "train_accuracy : 89.12266666666666 val_accuracy : 85.88799999999999\n",
      "==================================================\n",
      "Epoch 9\n",
      "train_loss : 0.2683364291489124 val_loss : 0.33069107753038407\n",
      "train_accuracy : 89.11466666666666 val_accuracy : 85.88799999999999\n",
      "==================================================\n",
      "Epoch 10\n",
      "train_loss : 0.2679174076517423 val_loss : 0.3307020516395569\n",
      "train_accuracy : 89.128 val_accuracy : 85.896\n",
      "==================================================\n"
     ]
    }
   ],
   "source": [
    "epochs = 10\n",
    "valid_loss_min = np.Inf\n",
    "# train for some number of epochs\n",
    "epoch_tr_loss,epoch_vl_loss = [],[]\n",
    "epoch_tr_acc,epoch_vl_acc = [],[]\n",
    "model = model.to(device)\n",
    "lr_scheduler = torch.optim.lr_scheduler.StepLR(optimizer,\n",
    "                                                   step_size=2,\n",
    "                                                   gamma=0.1)\n",
    "for epoch in range(epochs):\n",
    "    train_losses = []\n",
    "    train_acc = 0.0\n",
    "    model.train()\n",
    "    # initialize hidden state \n",
    "    h = model.get_hidden(batch_size)\n",
    "#     h.to(device)\n",
    "    for inputs, labels in train_loader:\n",
    "        \n",
    "        inputs, labels = inputs, labels \n",
    "        inputs = inputs.to(device)\n",
    "        labels = labels.to(device)\n",
    "        # Creating new variables for the hidden state, otherwise\n",
    "        # we'd backprop through the entire training history\n",
    "        h = tuple([each.data for each in h])\n",
    "        \n",
    "        model.zero_grad()\n",
    "        output,h = model(inputs,h)\n",
    "        \n",
    "        # calculate the loss and perform backprop\n",
    "        loss = criterion(output.squeeze(), labels.float())\n",
    "        loss.backward()\n",
    "        train_losses.append(loss.item())\n",
    "        # calculating accuracy\n",
    "        accuracy = acc(output,labels)\n",
    "        train_acc += accuracy\n",
    "        #`clip_grad_norm` helps prevent the exploding gradient problem in RNNs / LSTMs.\n",
    "        nn.utils.clip_grad_norm_(model.parameters(), 5)\n",
    "        optimizer.step()\n",
    " \n",
    "    \n",
    "    lr_scheduler.step()   \n",
    "    val_h = model.get_hidden(batch_size)\n",
    "    val_losses = []\n",
    "    val_acc = 0.0\n",
    "    \n",
    "    \n",
    "    model.eval()\n",
    "    with torch.no_grad():\n",
    "        for inputs, labels in valid_loader:\n",
    "            val_h = tuple([each.data for each in val_h])\n",
    "\n",
    "            inputs, labels = inputs, labels\n",
    "            inputs = inputs.to(device)\n",
    "            labels = labels.to(device)\n",
    "\n",
    "            output, val_h = model(inputs, val_h)\n",
    "            val_loss = criterion(output.squeeze(), labels.float())\n",
    "\n",
    "            val_losses.append(val_loss.item())\n",
    "\n",
    "            accuracy = acc(output,labels)\n",
    "            val_acc += accuracy\n",
    "            \n",
    "    epoch_train_loss = np.mean(train_losses)\n",
    "    epoch_val_loss = np.mean(val_losses)\n",
    "    epoch_train_acc = train_acc/len(train_loader.dataset)\n",
    "    epoch_val_acc = val_acc/len(valid_loader.dataset)\n",
    "    epoch_tr_loss.append(epoch_train_loss)\n",
    "    epoch_vl_loss.append(epoch_val_loss)\n",
    "    epoch_tr_acc.append(epoch_train_acc)\n",
    "    epoch_vl_acc.append(epoch_val_acc)\n",
    "    print(f'Epoch {epoch+1}') \n",
    "    print(f'train_loss : {epoch_train_loss} val_loss : {epoch_val_loss}')\n",
    "    print(f'train_accuracy : {epoch_train_acc*100} val_accuracy : {epoch_val_acc*100}')\n",
    "    if epoch_val_loss <= valid_loss_min:\n",
    "        torch.save(model.state_dict(), '../working/state_dict.pt')\n",
    "        print('Validation loss decreased ({:.6f} --> {:.6f}).  Saving model ...'.format(valid_loss_min,epoch_val_loss))\n",
    "        valid_loss_min = epoch_val_loss\n",
    "    print(25*'==')"
   ]
  },
  {
   "cell_type": "code",
   "execution_count": 50,
   "metadata": {},
   "outputs": [
    {
     "data": {
      "image/png": "[encoded data removed]",
      "text/plain": [
       "<Figure size 1440x432 with 2 Axes>"
      ]
     },
     "metadata": {
      "needs_background": "light"
     },
     "output_type": "display_data"
    }
   ],
   "source": [
    "fig = plt.figure(figsize = (20, 6))\n",
    "plt.subplot(1, 2, 1)\n",
    "plt.plot(epoch_tr_acc, label='Train Acc')\n",
    "plt.plot(epoch_vl_acc, label='Validation Acc')\n",
    "plt.title(\"Accuracy\")\n",
    "plt.legend()\n",
    "plt.grid()\n",
    "    \n",
    "plt.subplot(1, 2, 2)\n",
    "plt.plot(epoch_tr_loss, label='Train loss')\n",
    "plt.plot(epoch_vl_loss, label='Validation loss')\n",
    "plt.title(\"Loss\")\n",
    "plt.legend()\n",
    "plt.grid()\n",
    "\n",
    "plt.show()"
   ]
  },
  {
   "cell_type": "code",
   "execution_count": 51,
   "metadata": {},
   "outputs": [],
   "source": [
    "def predict_text(text):\n",
    "    word_seq = np.array([vocab[preprocessing(word)] for word in text.split() \n",
    "                     if preprocessing(word) in vocab.keys()])\n",
    "    word_seq = np.expand_dims(word_seq,axis=0)\n",
    "    pad =  torch.from_numpy(create2D(word_seq,500))\n",
    "    inputs = pad.to(device)\n",
    "    batch_size = 1\n",
    "    h = model.get_hidden(batch_size)\n",
    "    h = tuple([each.data for each in h])\n",
    "    output, h = model(inputs, h)\n",
    "    return(output.item())"
   ]
  },
  {
   "cell_type": "code",
   "execution_count": 52,
   "metadata": {},
   "outputs": [
    {
     "name": "stdout",
     "output_type": "stream",
     "text": [
      "Taut and organically gripping, Edward Dmytryk's Crossfire is a distinctive suspense thriller, an unlikely \"message\" movie using the look and devices of the noir cycle.<br /><br />Bivouacked in Washington, DC, a company of soldiers cope with their restlessness by hanging out in bars. Three of them end up at a stranger's apartment where Robert Ryan, drunk and belligerent, beats their host (Sam Levene) to death because he happens to be Jewish. Police detective Robert Young investigates with the help of Robert Mitchum, who's assigned to Ryan's outfit. Suspicion falls on the second of the three (George Cooper), who has vanished. Ryan slays the third buddy (Steve Brodie) to insure his silence before Young closes in.<br /><br />Abetted by a superior script by John Paxton, Dmytryk draws precise performances from his three starring Bobs. Ryan, naturally, does his prototypical Angry White Male (and to the hilt), while Mitchum underplays with his characteristic alert nonchalance (his role, however, is not central); Young may never have been better. Gloria Grahame gives her first fully-fledged rendition of the smart-mouthed, vulnerable tramp, and, as a sad sack who's leeched into her life, Paul Kelly haunts us in a small, peripheral role that he makes memorable.<br /><br />The politically engaged Dmytryk perhaps inevitably succumbs to sermonizing, but it's pretty much confined to Young's reminiscence of how his Irish grandfather died at the hands of bigots a century earlier (thus, incidentally, stretching chronology to the limit). At least there's no attempt to render an explanation, however glib, of why Ryan hates Jews (and hillbillies and...).<br /><br />Curiously, Crossfire survives even the major change wrought upon it -- the novel it's based on (Richard Brooks' The Brick Foxhole) dealt with a gay-bashing murder. But homosexuality in 1947 was still Beyond The Pale. News of the Holocaust had, however, begun to emerge from the ashes of Europe, so Hollywood felt emboldened to register its protest against anti-Semitism (the studios always quaked at the prospect of offending any potential ticket buyer).<br /><br />But while the change from homophobia to anti-Semitism works in general, the specifics don't fit so smoothly. The victim's chatting up a lonesome, drunk young soldier then inviting him back home looks odd, even though (or especially since) there's a girlfriend in tow. It raises the question whether this scenario was retained inadvertently or left in as a discreet tip-off to the original engine generating Ryan's murderous rage.\n",
      "======================================================================\n",
      "Actual sentiment is  : positive\n",
      "======================================================================\n",
      "Predicted sentiment is positive with a probability of 0.6699331402778625\n"
     ]
    }
   ],
   "source": [
    "\n",
    "index = 30\n",
    "print(df['review'][index])\n",
    "print('='*70)\n",
    "print(f'Actual sentiment is  : {str(df[\"sentiment\"][index])}')\n",
    "print('='*70)\n",
    "pro = predict_text(df['review'][index])\n",
    "status = \"positive\" if pro > 0.5 else \"negative\"\n",
    "pro = (1 - pro) if status == \"negative\" else pro\n",
    "print(f'Predicted sentiment is {str(status)} with a probability of {str(pro)}')"
   ]
  },
  {
   "cell_type": "code",
   "execution_count": 53,
   "metadata": {},
   "outputs": [
    {
     "name": "stdout",
     "output_type": "stream",
     "text": [
      "My first exposure to the Templarios & not a good one. I was excited to find this title among the offerings from Anchor Bay Video, which has brought us other cult classics such as \"Spider Baby\". The print quality is excellent, but this alone can't hide the fact that the film is deadly dull. There's a thrilling opening sequence in which the villagers exact a terrible revenge on the Templars (& set the whole thing in motion), but everything else in the movie is slow, ponderous &, ultimately, unfulfilling. Adding insult to injury: the movie was dubbed, not subtitled, as promised on the video jacket.\n",
      "======================================================================\n",
      "Actual sentiment is  : negative\n",
      "======================================================================\n",
      "predicted sentiment is negative with a probability of 0.9523466043174267\n"
     ]
    }
   ],
   "source": [
    "index = 32\n",
    "print(df['review'][index])\n",
    "print('='*70)\n",
    "print(f'Actual sentiment is  : {df[\"sentiment\"][index]}')\n",
    "print('='*70)\n",
    "pro = predict_text(df['review'][index])\n",
    "status = \"positive\" if pro > 0.5 else \"negative\"\n",
    "pro = (1 - pro) if status == \"negative\" else pro\n",
    "print(f'predicted sentiment is {status} with a probability of {pro}')"
   ]
  },
  {
   "cell_type": "code",
   "execution_count": null,
   "metadata": {},
   "outputs": [],
   "source": []
  }
 ],
 "metadata": {
  "kernelspec": {
   "display_name": "Python 3",
   "language": "python",
   "name": "python3"
  },
  "language_info": {
   "codemirror_mode": {
    "name": "ipython",
    "version": 3
   },
   "file_extension": ".py",
   "mimetype": "text/x-python",
   "name": "python",
   "nbconvert_exporter": "python",
   "pygments_lexer": "ipython3",
   "version": "3.8.5"
  }
 },
 "nbformat": 4,
 "nbformat_minor": 4
}
